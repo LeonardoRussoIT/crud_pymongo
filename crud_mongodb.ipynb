{
 "cells": [
  {
   "cell_type": "code",
   "execution_count": 1,
   "metadata": {},
   "outputs": [],
   "source": [
    "from pymongo import MongoClient"
   ]
  },
  {
   "cell_type": "markdown",
   "metadata": {},
   "source": [
    "### Realizar conexão"
   ]
  },
  {
   "cell_type": "markdown",
   "metadata": {},
   "source": [
    "Nesta célula, realizamos a conexão com o MongoDB. Certifique-se de ter o MongoDB instalado e em execução. Substitua a variável connection_string pelo endereço correto do seu banco de dados, se necessário."
   ]
  },
  {
   "cell_type": "code",
   "execution_count": 2,
   "metadata": {},
   "outputs": [],
   "source": [
    "connection_string = 'mongodb://127.0.0.1:27017/?directConnection=true&serverSelectionTimeoutMS=2000&appName=mongosh+2.0.2'\n",
    "client = MongoClient(connection_string)"
   ]
  },
  {
   "cell_type": "markdown",
   "metadata": {},
   "source": [
    "### Criando o Database"
   ]
  },
  {
   "cell_type": "markdown",
   "metadata": {},
   "source": [
    "Nesta célula, criamos um novo banco de dados no MongoDB. Substitua 'meu_novo_banco' pelo nome desejado para o seu banco de dados."
   ]
  },
  {
   "cell_type": "code",
   "execution_count": 3,
   "metadata": {},
   "outputs": [],
   "source": [
    "db = client['meu_novo_banco']"
   ]
  },
  {
   "cell_type": "markdown",
   "metadata": {},
   "source": [
    "### Criando a Coleção"
   ]
  },
  {
   "cell_type": "markdown",
   "metadata": {},
   "source": [
    "Nesta célula, criamos uma coleção dentro do banco de dados criado anteriormente. Substitua 'minha_nova_colecao' pelo nome desejado para a sua coleção."
   ]
  },
  {
   "cell_type": "code",
   "execution_count": 4,
   "metadata": {},
   "outputs": [],
   "source": [
    "collection = db['minha_nova_colecao']"
   ]
  },
  {
   "cell_type": "markdown",
   "metadata": {},
   "source": [
    "### Inserção dos Dados\n"
   ]
  },
  {
   "cell_type": "markdown",
   "metadata": {},
   "source": [
    "Nesta célula, inserimos um novo documento na coleção criada. Modifique os valores em dados conforme necessário."
   ]
  },
  {
   "cell_type": "code",
   "execution_count": 5,
   "metadata": {},
   "outputs": [
    {
     "name": "stdout",
     "output_type": "stream",
     "text": [
      "Dado inserido com sucesso. ID: 6563fbb694e5700eba9942a0\n"
     ]
    }
   ],
   "source": [
    "dados = {\n",
    "    'nome': 'João',\n",
    "    'idade': 25,\n",
    "    'nacionalidade': 'brasileira',\n",
    "    'hobbies': ['leitura', 'esportes']\n",
    "}\n",
    "\n",
    "insert = collection.insert_one(dados)\n",
    "print(f'Dado inserido com sucesso. ID: {insert.inserted_id}')"
   ]
  },
  {
   "cell_type": "markdown",
   "metadata": {},
   "source": [
    "### Consulta dos Dados"
   ]
  },
  {
   "cell_type": "markdown",
   "metadata": {},
   "source": [
    "Nesta célula, realizamos uma consulta na coleção com um filtro, projeção e ordenação específicos. Adapte o filtro, a projeção e a ordenação conforme suas necessidades."
   ]
  },
  {
   "cell_type": "code",
   "execution_count": 6,
   "metadata": {},
   "outputs": [
    {
     "name": "stdout",
     "output_type": "stream",
     "text": [
      "nome: João\n",
      "idade: 25\n",
      "==============================\n"
     ]
    }
   ],
   "source": [
    "filtro = {'nacionalidade': 'brasileira'}\n",
    "projecao = {'_id': 0, 'nome': 1, 'idade': 1}\n",
    "ordenar = [('idade', 1)]\n",
    "\n",
    "for dado in collection.find(filtro, projecao).sort(ordenar):\n",
    "    for chave, valor in dado.items():\n",
    "        print(f\"{chave}: {valor}\")\n",
    "    print('=' * 30)"
   ]
  },
  {
   "cell_type": "markdown",
   "metadata": {},
   "source": [
    "### Atualização dos Dados"
   ]
  },
  {
   "cell_type": "markdown",
   "metadata": {},
   "source": [
    "Nesta célula, atualizamos um documento na coleção com base em um filtro. Modifique o filtro e os novos valores conforme necessário."
   ]
  },
  {
   "cell_type": "code",
   "execution_count": 7,
   "metadata": {},
   "outputs": [
    {
     "name": "stdout",
     "output_type": "stream",
     "text": [
      "1 documento(s) atualizado(s)!\n"
     ]
    }
   ],
   "source": [
    "filtro = {'nome': 'João'}\n",
    "novos_valores = {'idade': 26}\n",
    "\n",
    "atualizacao = collection.update_one(filtro, {'$set': novos_valores})\n",
    "print(f'{atualizacao.modified_count} documento(s) atualizado(s)!')"
   ]
  },
  {
   "cell_type": "markdown",
   "metadata": {},
   "source": [
    "### Exclusão dos Dados"
   ]
  },
  {
   "cell_type": "markdown",
   "metadata": {},
   "source": [
    "Nesta célula, excluímos um documento da coleção com base em um filtro. Modifique o filtro conforme necessário."
   ]
  },
  {
   "cell_type": "code",
   "execution_count": 8,
   "metadata": {},
   "outputs": [
    {
     "name": "stdout",
     "output_type": "stream",
     "text": [
      "1 documento(s) excluído(s)\n"
     ]
    }
   ],
   "source": [
    "filtro = {'nome': 'João'}\n",
    "\n",
    "resultado = collection.delete_one(filtro)\n",
    "print(f'{resultado.deleted_count} documento(s) excluído(s)')"
   ]
  }
 ],
 "metadata": {
  "kernelspec": {
   "display_name": "Python 3",
   "language": "python",
   "name": "python3"
  },
  "language_info": {
   "codemirror_mode": {
    "name": "ipython",
    "version": 3
   },
   "file_extension": ".py",
   "mimetype": "text/x-python",
   "name": "python",
   "nbconvert_exporter": "python",
   "pygments_lexer": "ipython3",
   "version": "3.11.2"
  }
 },
 "nbformat": 4,
 "nbformat_minor": 2
}
